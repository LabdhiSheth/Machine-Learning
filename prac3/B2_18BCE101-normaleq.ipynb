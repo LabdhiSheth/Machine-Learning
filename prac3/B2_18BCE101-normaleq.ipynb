{
 "cells": [
  {
   "cell_type": "code",
   "execution_count": 1,
   "metadata": {},
   "outputs": [],
   "source": [
    "import numpy as np\n",
    "from sklearn.datasets import load_boston\n",
    "from numpy.linalg import inv, pinv, LinAlgError"
   ]
  },
  {
   "cell_type": "code",
   "execution_count": 2,
   "metadata": {},
   "outputs": [],
   "source": [
    "X,y = load_boston(return_X_y=True)"
   ]
  },
  {
   "cell_type": "code",
   "execution_count": 3,
   "metadata": {},
   "outputs": [
    {
     "name": "stdout",
     "output_type": "stream",
     "text": [
      "(400, 14)\n"
     ]
    }
   ],
   "source": [
    "X_train = X[0:400, : ]\n",
    "\n",
    "temp = np.zeros((X_train.shape[0], X_train.shape[1] + 1))\n",
    "temp[:,0] = np.ones(X_train.shape[0])\n",
    "temp[:,1:] = X_train\n",
    "X_train = temp\n",
    "print(X_train.shape)"
   ]
  },
  {
   "cell_type": "code",
   "execution_count": 4,
   "metadata": {},
   "outputs": [
    {
     "data": {
      "text/plain": [
       "(400,)"
      ]
     },
     "execution_count": 4,
     "metadata": {},
     "output_type": "execute_result"
    }
   ],
   "source": [
    "y_train = y[0:400]\n",
    "y_train.shape"
   ]
  },
  {
   "cell_type": "code",
   "execution_count": 5,
   "metadata": {},
   "outputs": [
    {
     "name": "stdout",
     "output_type": "stream",
     "text": [
      "(106, 14)\n"
     ]
    }
   ],
   "source": [
    "X_test = X[400:, :]\n",
    "temp = np.zeros((X_test.shape[0], X_test.shape[1] + 1))\n",
    "temp[:,0] = np.ones(X_test.shape[0])\n",
    "temp[:,1:] = X_test\n",
    "X_test = temp\n",
    "print(X_test.shape)"
   ]
  },
  {
   "cell_type": "code",
   "execution_count": 6,
   "metadata": {},
   "outputs": [
    {
     "data": {
      "text/plain": [
       "(106,)"
      ]
     },
     "execution_count": 6,
     "metadata": {},
     "output_type": "execute_result"
    }
   ],
   "source": [
    "y_test = y[400:]\n",
    "y_test.shape"
   ]
  },
  {
   "cell_type": "code",
   "execution_count": 8,
   "metadata": {},
   "outputs": [
    {
     "name": "stdout",
     "output_type": "stream",
     "text": [
      "[ 2.86725996e+01 -1.91246374e-01  4.42289967e-02  5.52207977e-02\n",
      "  1.71631351e+00 -1.49957220e+01  4.88773025e+00  2.60921031e-03\n",
      " -1.29480799e+00  4.84787214e-01 -1.54006673e-02 -8.08795026e-01\n",
      " -1.29230427e-03 -5.17953791e-01]\n"
     ]
    }
   ],
   "source": [
    "XtX = np.dot(X_train.T, X_train)\n",
    "\n",
    "try:\n",
    "    XtXi = inv(XtX)\n",
    "except LinAlgError:\n",
    "    XtXi = pinv(XtX)\n",
    "\n",
    "Xy = np.dot(X_train.T, y_train)\n",
    "\n",
    "theta = np.dot(XtXi, Xy)\n",
    "\n",
    "print(theta)"
   ]
  },
  {
   "cell_type": "code",
   "execution_count": 9,
   "metadata": {},
   "outputs": [
    {
     "data": {
      "text/plain": [
       "array([12.61850663, 19.78572841, 20.91937035, 13.01450693,  6.94639182,\n",
       "        5.12303941,  7.26186345, 21.83998413, 16.08974671, 24.37596059,\n",
       "       17.31065044, 22.85734116,  5.19256091, 13.00577445, -3.49480533,\n",
       "       15.32299614, 20.10208497,  9.63027316,  6.80890367, 21.07620623,\n",
       "       22.82278496, 21.2342445 , 20.82905553, 19.52436299, 20.09331136,\n",
       "       15.44875815, 21.5531436 , 17.88962803, 19.81734917, 19.07828356,\n",
       "       23.68045913, 24.66708323, 27.11475737, 23.11075473, 21.08582662,\n",
       "       19.18303717, 20.70321586, 14.85286051, 10.17057277, 14.8513666 ,\n",
       "       13.70216217, 20.03720828, 21.48965737, 20.84258811, 14.94469636,\n",
       "       18.34178339, 21.34949998, 20.65957655, 19.89276593, 20.97828867,\n",
       "       23.92255669, 23.07201115, 21.55554208, 26.50514205, 22.39974578,\n",
       "       22.61959883, 19.36483779, 19.29809997, 21.19218049, 21.01686435,\n",
       "       23.88984255, 23.29129253, 22.54055051, 25.50940291, 22.7123066 ,\n",
       "       20.83810043, 20.85171438, 19.9367506 , 18.55326766, 19.77188332,\n",
       "       22.6670289 , 25.45480663, 25.29389825, 29.10598991, 18.19152683,\n",
       "       19.37436262, 23.33741591, 12.73647199, 21.39123449, 23.62695639,\n",
       "       25.78954767, 29.99986129, 31.79411982, 23.25264678, 22.10981215,\n",
       "       25.10352316, 22.11558101, 23.53213958, 10.45268955,  7.35523672,\n",
       "        2.76946701, 13.00298527, 15.08487977, 19.97803384, 20.18001293,\n",
       "       16.29984751, 13.18697382, 18.68422716, 21.01308814, 17.73095981,\n",
       "       20.24689934, 23.70317413, 21.96111308, 28.11649748, 26.49586313,\n",
       "       21.87142967])"
      ]
     },
     "execution_count": 9,
     "metadata": {},
     "output_type": "execute_result"
    }
   ],
   "source": [
    "prediction = np.dot(X_test, theta)\n",
    "prediction"
   ]
  },
  {
   "cell_type": "code",
   "execution_count": null,
   "metadata": {},
   "outputs": [],
   "source": []
  }
 ],
 "metadata": {
  "kernelspec": {
   "display_name": "Python 3",
   "language": "python",
   "name": "python3"
  },
  "language_info": {
   "codemirror_mode": {
    "name": "ipython",
    "version": 3
   },
   "file_extension": ".py",
   "mimetype": "text/x-python",
   "name": "python",
   "nbconvert_exporter": "python",
   "pygments_lexer": "ipython3",
   "version": "3.7.4"
  }
 },
 "nbformat": 4,
 "nbformat_minor": 2
}
