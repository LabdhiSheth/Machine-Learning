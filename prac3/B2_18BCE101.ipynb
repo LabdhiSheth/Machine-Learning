{
 "cells": [
  {
   "cell_type": "code",
   "execution_count": 1,
   "metadata": {},
   "outputs": [],
   "source": [
    "#importing libraries\n",
    "import numpy as np\n",
    "from sklearn.datasets import load_boston\n",
    "from sklearn.preprocessing import StandardScaler\n",
    "from sklearn import metrics\n",
    "import matplotlib.pyplot as plt\n",
    "from numpy.linalg import inv, pinv, LinAlgError"
   ]
  },
  {
   "cell_type": "code",
   "execution_count": 2,
   "metadata": {},
   "outputs": [],
   "source": [
    "#loading the dataset into X matrix and y vector\n",
    "X,y = load_boston(return_X_y=True)"
   ]
  },
  {
   "cell_type": "code",
   "execution_count": 3,
   "metadata": {},
   "outputs": [],
   "source": [
    "#dividing into train and test dataset\n",
    "\n",
    "X_train = np.zeros((400,X.shape[1] + 1))\n",
    "X_train[:,0] = np.ones(400)\n",
    "X_train[:,1:] = X[0:400,:]\n",
    "\n",
    "y_train = y[0:400]\n",
    "y_train.shape\n",
    "\n",
    "X_test = X[400:, :]\n",
    "temp = np.zeros((X_test.shape[0], X_test.shape[1] + 1))\n",
    "temp[:,0] = np.ones(X_test.shape[0])\n",
    "temp[:,1:] = X_test\n",
    "X_test = temp\n",
    "\n",
    "y_test = y[400:]"
   ]
  },
  {
   "cell_type": "markdown",
   "metadata": {},
   "source": [
    "# Multiple regression using Normal Equation"
   ]
  },
  {
   "cell_type": "code",
   "execution_count": 4,
   "metadata": {},
   "outputs": [
    {
     "name": "stdout",
     "output_type": "stream",
     "text": [
      "[ 2.86725996e+01 -1.91246374e-01  4.42289967e-02  5.52207977e-02\n",
      "  1.71631351e+00 -1.49957220e+01  4.88773025e+00  2.60921031e-03\n",
      " -1.29480799e+00  4.84787214e-01 -1.54006673e-02 -8.08795026e-01\n",
      " -1.29230427e-03 -5.17953791e-01]\n"
     ]
    }
   ],
   "source": [
    "XtX = np.dot(X_train.T, X_train)\n",
    "\n",
    "try:\n",
    "    XtXi = inv(XtX)\n",
    "except LinAlgError:\n",
    "    XtXi = pinv(XtX)\n",
    "\n",
    "Xy = np.dot(X_train.T, y_train)\n",
    "\n",
    "theta = np.dot(XtXi, Xy)\n",
    "\n",
    "print(theta)"
   ]
  },
  {
   "cell_type": "code",
   "execution_count": 5,
   "metadata": {},
   "outputs": [
    {
     "name": "stdout",
     "output_type": "stream",
     "text": [
      "MAE 5.142232214464803\n",
      "MSE 37.89377859959266\n"
     ]
    }
   ],
   "source": [
    "prediction = np.dot(X_test, theta)\n",
    "\n",
    "print(\"MAE\", metrics.mean_absolute_error(y_true=y_test,y_pred = prediction))\n",
    "print(\"MSE\", metrics.mean_squared_error(y_true=y_test,y_pred = prediction))"
   ]
  },
  {
   "cell_type": "markdown",
   "metadata": {},
   "source": [
    "#  Multiple linear regression using gradient descent "
   ]
  },
  {
   "cell_type": "code",
   "execution_count": 6,
   "metadata": {},
   "outputs": [
    {
     "name": "stdout",
     "output_type": "stream",
     "text": [
      "[0.7270238  0.22529043 0.35204368 0.28487417 0.87027257 0.96905763\n",
      " 0.89781863 0.89089177 0.49813533 0.2255756  0.59710227 0.75088539\n",
      " 0.5456619  0.53854202]\n"
     ]
    }
   ],
   "source": [
    "theta = np.random.uniform(0,1,size = X_train.shape[1])\n",
    "epochs = 1000\n",
    "learning_rate = 0.01\n",
    "\n",
    "m = X_train.shape[0]\n",
    "n = X_train.shape[1]\n",
    "iteration = np.arange(epochs)\n",
    "cost = np.zeros(epochs)\n",
    "\n",
    "print(theta)"
   ]
  },
  {
   "cell_type": "code",
   "execution_count": 7,
   "metadata": {},
   "outputs": [
    {
     "name": "stderr",
     "output_type": "stream",
     "text": [
      "C:\\Users\\labdh\\Anaconda3\\lib\\site-packages\\ipykernel_launcher.py:6: RuntimeWarning: overflow encountered in square\n",
      "  \n"
     ]
    }
   ],
   "source": [
    "#performing gradient descent\n",
    "for i in range(epochs):\n",
    "    y_pred = np.dot(X_train,theta)\n",
    "    error = y_pred - y_train\n",
    "    theta = theta - (1/m)*learning_rate*np.dot(X_train.T,error)\n",
    "    cost[i] = (1/2*m)*np.sum((error)**2)"
   ]
  },
  {
   "cell_type": "markdown",
   "metadata": {},
   "source": [
    "plotting without feature scaling"
   ]
  },
  {
   "cell_type": "code",
   "execution_count": 8,
   "metadata": {},
   "outputs": [
    {
     "data": {
      "text/plain": [
       "[<matplotlib.lines.Line2D at 0x229d354b8c8>]"
      ]
     },
     "execution_count": 8,
     "metadata": {},
     "output_type": "execute_result"
    },
    {
     "data": {
      "image/png": "[encoded data removed]",
      "text/plain": [
       "<Figure size 432x288 with 1 Axes>"
      ]
     },
     "metadata": {
      "needs_background": "light"
     },
     "output_type": "display_data"
    }
   ],
   "source": [
    "plt.plot(iteration, cost)"
   ]
  },
  {
   "cell_type": "markdown",
   "metadata": {},
   "source": [
    "plotting after feature scaling using z-score normalisation"
   ]
  },
  {
   "cell_type": "code",
   "execution_count": 9,
   "metadata": {},
   "outputs": [
    {
     "data": {
      "text/plain": [
       "[<matplotlib.lines.Line2D at 0x229d35e7dc8>]"
      ]
     },
     "execution_count": 9,
     "metadata": {},
     "output_type": "execute_result"
    },
    {
     "data": {
      "image/png": "[encoded data removed]",
      "text/plain": [
       "<Figure size 432x288 with 1 Axes>"
      ]
     },
     "metadata": {
      "needs_background": "light"
     },
     "output_type": "display_data"
    }
   ],
   "source": [
    "scaler = StandardScaler()\n",
    "\n",
    "#find mu and sigma\n",
    "scaler.fit(X_train[:,1:])\n",
    "\n",
    "X_train[:, 1: ] = scaler.transform(X_train[:, 1:])\n",
    "X_test[:, 1: ] = scaler.transform(X_test[:,1:])\n",
    "\n",
    "theta = np.random.uniform(0,1,size = X_train.shape[1])\n",
    "\n",
    "for i in range(epochs):\n",
    "    y_pred = np.dot(X_train,theta)\n",
    "    error = y_pred - y_train\n",
    "    theta = theta - (1/m)*learning_rate*np.dot(X_train.T,error)\n",
    "    cost[i] = (1/2*m)*np.sum((error)**2)\n",
    "    \n",
    "plt.plot(iteration, cost)"
   ]
  },
  {
   "cell_type": "code",
   "execution_count": 10,
   "metadata": {},
   "outputs": [
    {
     "name": "stdout",
     "output_type": "stream",
     "text": [
      "MAE 4.872347863986072\n",
      "MSE 34.17415022404201\n"
     ]
    }
   ],
   "source": [
    "prediction = np.dot(X_test, theta)\n",
    "\n",
    "print(\"MAE\", metrics.mean_absolute_error(y_true=y_test,y_pred = prediction))\n",
    "print(\"MSE\", metrics.mean_squared_error(y_true=y_test,y_pred = prediction))"
   ]
  },
  {
   "cell_type": "markdown",
   "metadata": {},
   "source": [
    "plotting after feature scaling using min max normalisation"
   ]
  },
  {
   "cell_type": "code",
   "execution_count": 11,
   "metadata": {},
   "outputs": [],
   "source": [
    "minx = np.min(X_train[:,1:])\n",
    "maxx = np.max(X_train[:,1:])"
   ]
  },
  {
   "cell_type": "code",
   "execution_count": 12,
   "metadata": {},
   "outputs": [],
   "source": [
    "X_train[:,1:] = (X_train[:,1:] - minx)/(maxx - minx)\n",
    "X_test[:,1:] = (X_test[:,1:] - minx)/(maxx - minx)"
   ]
  },
  {
   "cell_type": "code",
   "execution_count": 13,
   "metadata": {},
   "outputs": [
    {
     "data": {
      "text/plain": [
       "[<matplotlib.lines.Line2D at 0x229d463d988>]"
      ]
     },
     "execution_count": 13,
     "metadata": {},
     "output_type": "execute_result"
    },
    {
     "data": {
      "image/png": "[encoded data removed]",
      "text/plain": [
       "<Figure size 432x288 with 1 Axes>"
      ]
     },
     "metadata": {
      "needs_background": "light"
     },
     "output_type": "display_data"
    }
   ],
   "source": [
    "theta = np.random.uniform(0,1,size = X_train.shape[1])\n",
    "\n",
    "for i in range(epochs):\n",
    "    y_pred = np.dot(X_train,theta)\n",
    "    error = y_pred - y_train\n",
    "    theta = theta - (1/m)*learning_rate*np.dot(X_train.T,error)\n",
    "    cost[i] = (1/2*m)*np.sum((error)**2)\n",
    "    \n",
    "plt.plot(iteration, cost)"
   ]
  },
  {
   "cell_type": "code",
   "execution_count": 14,
   "metadata": {},
   "outputs": [
    {
     "name": "stdout",
     "output_type": "stream",
     "text": [
      "MAE 8.910819035614624\n",
      "MSE 103.04696380931166\n"
     ]
    }
   ],
   "source": [
    "prediction = np.dot(X_test, theta)\n",
    "\n",
    "print(\"MAE\", metrics.mean_absolute_error(y_true=y_test,y_pred = prediction))\n",
    "print(\"MSE\", metrics.mean_squared_error(y_true=y_test,y_pred = prediction))"
   ]
  }
 ],
 "metadata": {
  "kernelspec": {
   "display_name": "Python 3",
   "language": "python",
   "name": "python3"
  },
  "language_info": {
   "codemirror_mode": {
    "name": "ipython",
    "version": 3
   },
   "file_extension": ".py",
   "mimetype": "text/x-python",
   "name": "python",
   "nbconvert_exporter": "python",
   "pygments_lexer": "ipython3",
   "version": "3.7.4"
  }
 },
 "nbformat": 4,
 "nbformat_minor": 2
}
