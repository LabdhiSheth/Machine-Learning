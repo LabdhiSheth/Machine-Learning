{
 "cells": [
  {
   "cell_type": "code",
   "execution_count": 1,
   "metadata": {},
   "outputs": [],
   "source": [
    "import matplotlib.pyplot as plt\n",
    "import pandas as pd\n",
    "import numpy as np"
   ]
  },
  {
   "cell_type": "markdown",
   "metadata": {},
   "source": [
    "## Train Data set"
   ]
  },
  {
   "cell_type": "code",
   "execution_count": 2,
   "metadata": {},
   "outputs": [],
   "source": [
    "train_data = pd.read_csv('Train.csv')"
   ]
  },
  {
   "cell_type": "code",
   "execution_count": 3,
   "metadata": {},
   "outputs": [
    {
     "data": {
      "text/plain": [
       "Index(['x', 'y'], dtype='object')"
      ]
     },
     "execution_count": 3,
     "metadata": {},
     "output_type": "execute_result"
    }
   ],
   "source": [
    "train_data.columns"
   ]
  },
  {
   "cell_type": "code",
   "execution_count": 4,
   "metadata": {},
   "outputs": [
    {
     "data": {
      "text/plain": [
       "x    0\n",
       "y    0\n",
       "dtype: int64"
      ]
     },
     "execution_count": 4,
     "metadata": {},
     "output_type": "execute_result"
    }
   ],
   "source": [
    "train_data.isna().sum()"
   ]
  },
  {
   "cell_type": "code",
   "execution_count": 5,
   "metadata": {},
   "outputs": [
    {
     "data": {
      "text/html": [
       "<div>\n",
       "<style scoped>\n",
       "    .dataframe tbody tr th:only-of-type {\n",
       "        vertical-align: middle;\n",
       "    }\n",
       "\n",
       "    .dataframe tbody tr th {\n",
       "        vertical-align: top;\n",
       "    }\n",
       "\n",
       "    .dataframe thead th {\n",
       "        text-align: right;\n",
       "    }\n",
       "</style>\n",
       "<table border=\"1\" class=\"dataframe\">\n",
       "  <thead>\n",
       "    <tr style=\"text-align: right;\">\n",
       "      <th></th>\n",
       "      <th>x</th>\n",
       "      <th>y</th>\n",
       "    </tr>\n",
       "  </thead>\n",
       "  <tbody>\n",
       "    <tr>\n",
       "      <th>0</th>\n",
       "      <td>24</td>\n",
       "      <td>21.549452</td>\n",
       "    </tr>\n",
       "    <tr>\n",
       "      <th>1</th>\n",
       "      <td>50</td>\n",
       "      <td>47.464463</td>\n",
       "    </tr>\n",
       "    <tr>\n",
       "      <th>2</th>\n",
       "      <td>15</td>\n",
       "      <td>17.218656</td>\n",
       "    </tr>\n",
       "    <tr>\n",
       "      <th>3</th>\n",
       "      <td>38</td>\n",
       "      <td>36.586398</td>\n",
       "    </tr>\n",
       "    <tr>\n",
       "      <th>4</th>\n",
       "      <td>87</td>\n",
       "      <td>87.288984</td>\n",
       "    </tr>\n",
       "  </tbody>\n",
       "</table>\n",
       "</div>"
      ],
      "text/plain": [
       "    x          y\n",
       "0  24  21.549452\n",
       "1  50  47.464463\n",
       "2  15  17.218656\n",
       "3  38  36.586398\n",
       "4  87  87.288984"
      ]
     },
     "execution_count": 5,
     "metadata": {},
     "output_type": "execute_result"
    }
   ],
   "source": [
    "train_data.head()"
   ]
  },
  {
   "cell_type": "code",
   "execution_count": 6,
   "metadata": {},
   "outputs": [
    {
     "data": {
      "text/plain": [
       "<matplotlib.collections.PathCollection at 0x19918c02a48>"
      ]
     },
     "execution_count": 6,
     "metadata": {},
     "output_type": "execute_result"
    },
    {
     "data": {
      "image/png": "[encoded data removed]",
      "text/plain": [
       "<Figure size 432x288 with 1 Axes>"
      ]
     },
     "metadata": {
      "needs_background": "light"
     },
     "output_type": "display_data"
    }
   ],
   "source": [
    "plt.scatter(train_data['x'], train_data['y'])"
   ]
  },
  {
   "cell_type": "markdown",
   "metadata": {},
   "source": [
    "chnge iters\n",
    "\n",
    "chnge learning_rate\n",
    "\n",
    "change in intitial value of theta\n",
    "\n",
    "5 different\n",
    "\n",
    "write tabular\n",
    "\n",
    "highlight optimal value\n",
    "\n",
    "predict for training and test both"
   ]
  },
  {
   "cell_type": "code",
   "execution_count": 7,
   "metadata": {},
   "outputs": [
    {
     "data": {
      "text/plain": [
       "(699, 2)"
      ]
     },
     "execution_count": 7,
     "metadata": {},
     "output_type": "execute_result"
    }
   ],
   "source": [
    "train_data.shape"
   ]
  },
  {
   "cell_type": "code",
   "execution_count": 8,
   "metadata": {},
   "outputs": [],
   "source": [
    "train_data = np.array(train_data)"
   ]
  },
  {
   "cell_type": "code",
   "execution_count": 9,
   "metadata": {},
   "outputs": [
    {
     "data": {
      "text/plain": [
       "array([[ 1., 24.],\n",
       "       [ 1., 50.],\n",
       "       [ 1., 15.],\n",
       "       ...,\n",
       "       [ 1., 82.],\n",
       "       [ 1., 66.],\n",
       "       [ 1., 97.]])"
      ]
     },
     "execution_count": 9,
     "metadata": {},
     "output_type": "execute_result"
    }
   ],
   "source": [
    "x_train = np.array(train_data)\n",
    "x_train[:,1] = x_train[:,0]\n",
    "x_train[:,0] = 1\n",
    "x_train"
   ]
  },
  {
   "cell_type": "code",
   "execution_count": 10,
   "metadata": {},
   "outputs": [
    {
     "data": {
      "text/plain": [
       "array([ 21.54945196,  47.46446305,  17.21865634,  36.58639803,\n",
       "        87.28898389,  32.46387493,  10.78089683,  80.7633986 ,\n",
       "        24.61215147,   6.96331907,  11.23757338,  13.53290206,\n",
       "        24.60323899,  39.40049976,  48.43753838,  61.69900319,\n",
       "        26.92832418,  70.4052055 ,  29.34092408,  25.30895192,\n",
       "        69.02934339,  84.99484703,  57.04310305,  50.5921991 ,\n",
       "        83.02772202,  57.05752706,  47.95883341,  24.34226432,\n",
       "        94.68488281,  48.03970696,   7.08132338,  21.99239907,\n",
       "        42.33151664,   0.32908944,  61.92303698,  91.17716423,\n",
       "        39.45358014,   5.99606961,  22.59015942,  61.18044414,\n",
       "        85.02778957,  -1.28631089,  61.94273962,  21.96033347,\n",
       "        33.66194193,  17.60946242,  58.5630564 ,  52.82390762,\n",
       "        22.1363481 ,  35.07467353,  86.18822311,  42.63227697,\n",
       "         4.09817744,  61.2229864 ,  17.70677576,  11.85312574,\n",
       "        80.23051695,  62.64931741,   9.6168598 ,  20.02797699,\n",
       "        61.7510743 ,  71.61010303,  23.77154623,  51.90142035,\n",
       "        22.66073682,  50.02897927,  26.68794368,   0.3769119 ,\n",
       "         6.806419  ,  77.33986001,  28.90260209,  66.7346608 ,\n",
       "         0.70751064,  57.07748383,  28.41453196,  44.46272123,\n",
       "         7.459606  ,   2.31670811,   4.92854619,  52.50336074,\n",
       "        91.19109623,   8.48916433,   6.96337197,  31.97989959,\n",
       "        81.4281205 ,  22.62365422,  78.52505087,  25.80714057,\n",
       "        73.51081775,  91.775467  ,  49.21863516,  80.50445387,\n",
       "        50.05636123,  25.46292549,  55.32164264,  59.1244888 ,\n",
       "         1.10068669,  71.98020786,  30.13666408,  83.88427405,\n",
       "        89.91004752,   8.33565458,  47.88388961,  45.00397413,\n",
       "        31.15664574,   9.19037568,  74.83135003,  30.23177607,\n",
       "        24.21914027,  57.87219151,  50.61728392,  78.67470043,\n",
       "        86.236707  ,  89.10409255,  43.26595082,  26.68273277,\n",
       "        59.46383041,  28.90055826,  31.300416  ,  71.1433266 ,\n",
       "        68.4739206 ,  39.98238856,   4.07577614,  47.85817542,\n",
       "        51.20390217,  43.9367213 ,  38.13626679,   3.57466163,\n",
       "        36.4139958 ,  22.21908523,  63.5312572 ,  49.86702787,\n",
       "        21.53140009,  64.05710234,  70.77549842,  92.15749762,\n",
       "        81.22259156,  25.10114067,  94.08853397,  53.25166165,\n",
       "        59.16236621,  75.24148428,  28.22325833,  25.33323728,\n",
       "         6.3646157 ,  95.4609216 ,  88.64183756,  58.70318693,\n",
       "         6.81549128,  99.40394676,  32.77049249,  47.0586788 ,\n",
       "        60.53321778,  40.30929858,  89.42222685,  86.82132066,\n",
       "        26.11697543,  53.26657596,  96.62327888,  95.78441027,\n",
       "         6.04728669,  24.47387908,  75.96844763,   3.82938101,\n",
       "        52.51703683,  72.80457527,  14.10999096,  80.86087062,\n",
       "        77.01988215,  86.26972444,  77.13735466,  51.47649476,\n",
       "        17.34557531,  57.72853572,  44.15029394,  59.24362743,\n",
       "        -1.05327561,  86.79002254,  60.14031858,  44.04222058,\n",
       "        24.5227488 ,  52.95305521,  43.16133498,  45.67562576,\n",
       "        -2.8307495 ,  29.19693178,  96.49812401,  22.5453232 ,\n",
       "        20.10741433,   4.03543025,  61.14568518,  13.97163653,\n",
       "        55.34529893,  12.18441166,  64.00077658,  70.3188322 ,\n",
       "        -0.93689505,  18.91422276,  23.87590331,  47.5775361 ,\n",
       "        43.2736092 ,  66.48278755,  75.72605529,  80.59643338,\n",
       "        -2.23587985,  47.04654956,  21.59635575,  32.87558963,\n",
       "        57.95782956,  52.24760027,  24.58286902,  12.12573805,\n",
       "       100.0158026 ,  74.04682658,   1.61194747,  70.36836307,\n",
       "        52.26831735,  83.1286166 ,  43.64765048,  49.44785426,\n",
       "        72.6356699 ,  52.78130641,  57.11195136,  79.1050629 ,\n",
       "       101.6228548 ,  53.5825402 ,  68.92139297,  46.9666961 ,\n",
       "        51.02642868,  85.52073551,  99.51685756,  94.63911256,\n",
       "        46.78357742,  21.21321959,  58.37266004,  87.22059677,\n",
       "       102.4967859 ,  43.88314335,  53.06655757,  26.33464785,\n",
       "        98.52008934,   9.40049758,  52.94026699,  53.83020877,\n",
       "        45.94511142,  65.0132736 ,  86.5069584 ,  75.63280796,\n",
       "        36.78035027, 100.5328916 ,  29.04466136,  51.70352433,\n",
       "         9.19995472,  71.70015848,  49.82634062,  37.49971096,\n",
       "        53.65084683,  33.92561965,  49.92639685,   8.14815426,\n",
       "        49.72359037,  16.16712757,  75.30033002,   9.57736857,\n",
       "        48.38088357,  72.95331671,  92.59573853,  88.85523586,\n",
       "        99.00361771,  45.09439571,  46.94362684,  48.33449605,\n",
       "        94.92329574,  47.78165248,  81.28960746,  37.83155021,\n",
       "        39.69185252,  76.92664854,  88.02990531,  56.99178872,\n",
       "        72.58929383,  44.98103442,  11.99017641,   1.91951333,\n",
       "         1.62882607,  66.27746655,  57.53887255,  94.70291077,\n",
       "        41.21469904,  25.04169243,   3.77820991,  50.50711779,\n",
       "         9.68240849,  48.88147608,  54.40348599,  71.70233156,\n",
       "        69.35848388,  99.98491591,  26.03323718,  75.48910307,\n",
       "        36.59623056,  40.95102191,  86.78316267,  15.50701184,\n",
       "        85.86077871,  79.20610113,  80.80643766,  48.59717283,\n",
       "        13.93415049,  27.3051179 ,  14.00226297,  33.67416   ,\n",
       "        13.11612884,  24.76649193,  73.68477876,  77.53149541,\n",
       "        76.24503196,  88.0578931 ,  35.02445799,  21.65857739,\n",
       "        17.33681562,  94.36778957,  33.43396307,  32.52179399,\n",
       "        90.57741298,  71.25634126,  31.23212856,   5.39884006,\n",
       "        18.56241391,  71.97121038,   5.22575957,  73.5964342 ,\n",
       "        49.76948983,  82.69087513,   1.65230909,  -3.83665214,\n",
       "        62.03811556,  61.26514581,  13.24991628,  88.61672694,\n",
       "        21.13655528,  23.85017475,  92.01203405,  10.26712261,\n",
       "        54.14681616,  87.00645713,  37.69447352,  19.62278654,\n",
       "        34.78561007,  62.03190983,  52.67003801,  58.09031476,\n",
       "        97.19448821,  90.50155298,  50.5123462 ,  94.45211871,\n",
       "        21.10794636,  37.36298431,  10.28574844,  96.04932416,\n",
       "       100.0953697 ,  30.6063167 ,  96.19000542,  71.30828034,\n",
       "        34.59311043,  19.02332876,  10.76669688,  90.5799868 ,\n",
       "        48.71787679,  78.74139764,  85.23492274,  71.65789964,\n",
       "         8.93899055,  39.89606046,  91.85091116,  99.11200375,\n",
       "        26.22196486,  33.21584226,  35.72392691,  76.88604495,\n",
       "        99.30874567,  25.77161074,  67.85169407,  98.50371084,\n",
       "        31.11331895,  45.51171028,  12.65537808,  95.56065366,\n",
       "         9.52643164,  36.10893209,  46.43628318,  -3.83998112,\n",
       "        48.97302037,  93.25305499,  23.47650968,  17.13551132,\n",
       "        14.55896144,  41.53992729,  91.64730552,  66.16652565,\n",
       "         9.23085749,  47.41377893,  34.76441561,  86.10796637,\n",
       "        21.81267954,  48.89963951,  46.78108638,  12.91328547,\n",
       "        94.55203143,  94.97068753,   2.37917248,  21.47982988,\n",
       "        35.79795462,  82.0763803 ,  78.87097714,  47.2492425 ,\n",
       "        96.18852325,  78.38491927,  42.94274064,  64.43231595,\n",
       "        84.21191485,  57.3069783 ,  52.52101436,  25.7440243 ,\n",
       "        75.42283401,  53.62523007,  75.14466308,  74.12151511,\n",
       "        36.24807243,  20.21665898,  66.94758118,  34.07278254,\n",
       "        73.13850045,  92.85929155,  28.36793808,  85.59308727,\n",
       "        10.68453755,  86.10708624,  33.22031418,  66.09563422,\n",
       "        19.30486546,  48.84542083,  93.73176312,  75.45758614,\n",
       "        91.24239226,  87.15690853,  25.53752833,  46.06629478,\n",
       "        49.65277661,   7.38224417,  71.11189935,  83.50570521,\n",
       "         8.79113989,  33.30638903,  26.40362524,  91.72960726,\n",
       "        82.53030719,  36.67762733,  86.98450355,  32.34784175,\n",
       "        16.78353974,   1.57658438,  17.4618141 ,   2.11611303,\n",
       "        24.34804332,  48.29491198,  85.52145453,  73.71434779,\n",
       "        63.15189497,  38.46213684,  19.47100788,  94.07428225,\n",
       "        67.92051286,  22.58096241,  16.01629889,  48.43307886,\n",
       "        29.6673599 ,  26.65566328,  86.28206739,  50.82304924,\n",
       "        88.57251713,  32.59980745,  21.02469368,  20.72894979,\n",
       "        20.38051187,  57.25180153,   6.96753705,  10.240085  ,\n",
       "        64.94841088,  55.35893915,  31.24365589,  90.72048818,\n",
       "        58.750127  ,  55.85003198,  60.19925869,  85.03295412,\n",
       "        60.38823085,  18.44679787,  82.18839247,  94.2963344 ,\n",
       "         7.68202459,  61.01858089,  53.60562216,  94.47728801,\n",
       "        27.9645947 ,  62.55662585,   1.40625441, 101.7003412 ,\n",
       "        13.84973988,  28.99769315,  99.04315693,  15.56135514,\n",
       "        24.63528393,  53.98393374,  42.91449728,  74.29662112,\n",
       "        91.17012883,  49.42440876,  82.47683519,  56.15303953,\n",
       "        37.17063131,  46.36928662,  97.02383456,  40.83182104,\n",
       "        24.08498313,  41.14386358,  21.97388066, 100.740897  ,\n",
       "        61.19971596,  74.39517002,  69.04377173,  56.68718792,\n",
       "         5.86039171,  55.72021356,  79.22021816,  86.30177517,\n",
       "        25.26971886,  36.33294447,  27.65574228,  94.79690531,\n",
       "        58.67366671,  56.15934471,  18.40919388,  86.26936988,\n",
       "        26.59436195,   8.45252016,  56.18131518,  27.65452669,\n",
       "        20.87391785,  77.83354439,  50.01787825,   9.29085626,\n",
       "        75.0284725 ,  38.3037698 ,  44.70786405,  22.51016575,\n",
       "       102.4959452 ,  86.76845244,  13.89748578,  24.81824269,\n",
       "        33.94224862,  92.26970059,  68.73365081,  47.38516883,\n",
       "        32.37576914,  87.67388681,  54.57648371,  18.06450222,\n",
       "         7.89653984,  35.00341078,  36.72823317,  65.84975426,\n",
       "        89.59295492,  61.69026202,  11.60499315,  71.0826803 ,\n",
       "        43.71901164,  41.57421008,  74.25552425,  66.28310437,\n",
       "        36.62438077,  10.32374866,   7.15645766,  67.88603132,\n",
       "       101.1097591 ,  98.6132033 ,  50.19083844,  27.83896261,\n",
       "        55.9249564 ,  76.47340872,  92.05756378,  27.35245439,\n",
       "        55.32083476,  41.39990349,  93.59057024,   5.29705403,\n",
       "        21.01429422,   2.26705945,  -0.1218605 ,  66.49546208,\n",
       "        73.83637687,  42.10140878,  77.35135732,  41.02251779,\n",
       "        14.75305272,  83.28199022,  89.93374342,   2.28657169,\n",
       "        55.61421297,  62.15313408,  89.55803528,  94.00291863,\n",
       "        26.78023848,  -0.76453763,   0.282866  ,  44.26800515,\n",
       "        19.85174138,  47.15960005,   8.35936657,  92.08157084,\n",
       "        41.88734051,  30.5413129 ,  46.87654473,  96.35659485,\n",
       "        17.9170699 ,  71.67949917,  32.64997554,  39.34482965,\n",
       "        17.03401999,  52.87524074,  15.85414849, 108.8716183 ,\n",
       "        49.30477253,  89.4749477 ,  63.67348242,  83.78410946,\n",
       "        73.51136922,  46.80297244,   5.8099468 ,  85.23027975,\n",
       "        10.58213964,  21.37698317,  46.0537745 ,  95.2389253 ,\n",
       "        94.15149206,  54.54868046,  87.36260449,  88.47741598,\n",
       "        84.48045678,  48.79647071,  10.76675683,  30.48882921,\n",
       "        29.76846185,  13.51574749,  86.12955884,  43.30022747,\n",
       "        51.92110232,  16.49185287,   7.99807343,  97.66689567,\n",
       "        89.80545367,  38.07166567,  60.27852322,   6.70919576,\n",
       "        18.35488924,  56.37058203,  62.80064204,  41.25155632,\n",
       "        19.42637541,  82.88935804,  63.61364981,  11.29627199,\n",
       "        60.02274882,  72.60339326,  11.87964573, 100.7012737 ,\n",
       "        45.12420809,  14.81106804,  48.09368034,  42.29145672,\n",
       "        52.73389794,  36.72396986,  28.64535198,  62.16675273,\n",
       "        95.58459518,  66.04325304,  99.9566225 ,  46.14941984,\n",
       "        89.13754963,  69.71787806,  12.31736648,  78.20296268,\n",
       "        71.30995371,  81.45544709,  58.59500642,  94.62509374,\n",
       "        88.60376995,  63.64868529,  94.9752655 ])"
      ]
     },
     "execution_count": 10,
     "metadata": {},
     "output_type": "execute_result"
    }
   ],
   "source": [
    "y_train = train_data[:,1]\n",
    "y_train"
   ]
  },
  {
   "cell_type": "code",
   "execution_count": 11,
   "metadata": {},
   "outputs": [
    {
     "data": {
      "text/plain": [
       "array([0.38983809, 0.04797445])"
      ]
     },
     "execution_count": 11,
     "metadata": {},
     "output_type": "execute_result"
    }
   ],
   "source": [
    "theta = np.random.uniform(0,1,size = train_data.shape[1])\n",
    "theta"
   ]
  },
  {
   "cell_type": "code",
   "execution_count": 12,
   "metadata": {},
   "outputs": [],
   "source": [
    "epochs = 1000\n",
    "learning_rate = 0.0001\n",
    "m = x_train.shape[0]\n",
    "n = x_train.shape[1]"
   ]
  },
  {
   "cell_type": "code",
   "execution_count": 13,
   "metadata": {},
   "outputs": [
    {
     "name": "stdout",
     "output_type": "stream",
     "text": [
      "[0.39133813 0.99318642]\n"
     ]
    },
    {
     "data": {
      "image/png": "[encoded data removed]",
      "text/plain": [
       "<Figure size 432x288 with 1 Axes>"
      ]
     },
     "metadata": {
      "needs_background": "light"
     },
     "output_type": "display_data"
    }
   ],
   "source": [
    "for i in range(epochs):\n",
    "    next_train = np.zeros(x_train.shape[1])\n",
    "    y_pred = np.dot(x_train,theta)\n",
    "    error = y_pred - y_train\n",
    "    for j in range(n):\n",
    "        next_train[j] = np.sum(np.dot(error,x_train[:,j].T))\n",
    "    theta = theta - (1/m)*learning_rate*next_train\n",
    "    \n",
    "    #seeing how the gradient line changes\n",
    "    temp1 = theta[0] + x_train[:,1]*theta[1]\n",
    "    plt.scatter(train_data[:,0],train_data[:,1])\n",
    "    plt.plot(train_data[:,0],temp1,color = 'red')\n",
    "\n",
    "print(theta)"
   ]
  },
  {
   "cell_type": "code",
   "execution_count": 14,
   "metadata": {},
   "outputs": [
    {
     "data": {
      "text/plain": [
       "[<matplotlib.lines.Line2D at 0x1991d385cc8>]"
      ]
     },
     "execution_count": 14,
     "metadata": {},
     "output_type": "execute_result"
    },
    {
     "data": {
      "image/png": "[encoded data removed]",
      "text/plain": [
       "<Figure size 432x288 with 1 Axes>"
      ]
     },
     "metadata": {
      "needs_background": "light"
     },
     "output_type": "display_data"
    }
   ],
   "source": [
    "#final output\n",
    "\n",
    "plt.scatter(train_data[:,0],train_data[:,1])\n",
    "plt.plot(train_data[:,0],temp1,color = 'red')"
   ]
  },
  {
   "cell_type": "markdown",
   "metadata": {},
   "source": [
    "## Test Data set"
   ]
  },
  {
   "cell_type": "code",
   "execution_count": 15,
   "metadata": {},
   "outputs": [
    {
     "name": "stdout",
     "output_type": "stream",
     "text": [
      "    x          y\n",
      "0  77  79.775152\n",
      "1  21  23.177279\n",
      "2  22  25.609262\n",
      "3  20  17.857388\n",
      "4  36  41.849864\n"
     ]
    },
    {
     "data": {
      "text/plain": [
       "<matplotlib.collections.PathCollection at 0x1991d39fb88>"
      ]
     },
     "execution_count": 15,
     "metadata": {},
     "output_type": "execute_result"
    },
    {
     "data": {
      "image/png": "[encoded data removed]",
      "text/plain": [
       "<Figure size 432x288 with 1 Axes>"
      ]
     },
     "metadata": {
      "needs_background": "light"
     },
     "output_type": "display_data"
    }
   ],
   "source": [
    "test_data = pd.read_csv('Test.csv')\n",
    "print(test_data.head())\n",
    "\n",
    "test_data = np.array(test_data)\n",
    "plt.scatter(test_data[:,0], test_data[:,1])"
   ]
  },
  {
   "cell_type": "code",
   "execution_count": 17,
   "metadata": {},
   "outputs": [],
   "source": [
    "theta = np.random.uniform(0,1,size = test_data.shape[1])\n",
    "x_test = np.zeros_like(test_data)\n",
    "x_test[:,0] = np.ones(test_data.shape[0])\n",
    "x_test[:,1] = test_data[:,1]\n",
    "y_test = test_data[:,1]\n",
    "m = test_data.shape[0]\n",
    "\n",
    "for i in range(epochs):\n",
    "    next_test = np.zeros(test_data.shape[1])\n",
    "    y_pred = np.dot(x_test,theta)\n",
    "    error = y_pred - y_test\n",
    "    for j in range(test_data.shape[1]):\n",
    "        next_test = np.sum(np.dot(x_test[:,j].T,error))\n",
    "    theta = theta - (1/m)*learning_rate*next_test\n",
    "    \n",
    "    temp1 = theta[0] + x_testt[:,1]*theta[1]"
   ]
  },
  {
   "cell_type": "code",
   "execution_count": 18,
   "metadata": {},
   "outputs": [
    {
     "ename": "NameError",
     "evalue": "name 'X' is not defined",
     "output_type": "error",
     "traceback": [
      "\u001b[1;31m---------------------------------------------------------------------------\u001b[0m",
      "\u001b[1;31mNameError\u001b[0m                                 Traceback (most recent call last)",
      "\u001b[1;32m<ipython-input-18-74ed00a2735f>\u001b[0m in \u001b[0;36m<module>\u001b[1;34m\u001b[0m\n\u001b[1;32m----> 1\u001b[1;33m \u001b[0mY_pred\u001b[0m \u001b[1;33m=\u001b[0m \u001b[0mm\u001b[0m\u001b[1;33m*\u001b[0m\u001b[0mX\u001b[0m \u001b[1;33m+\u001b[0m \u001b[0mc\u001b[0m\u001b[1;33m\u001b[0m\u001b[1;33m\u001b[0m\u001b[0m\n\u001b[0m\u001b[0;32m      2\u001b[0m \u001b[1;33m\u001b[0m\u001b[0m\n\u001b[0;32m      3\u001b[0m \u001b[0mplt\u001b[0m\u001b[1;33m.\u001b[0m\u001b[0mscatter\u001b[0m\u001b[1;33m(\u001b[0m\u001b[0mX\u001b[0m\u001b[1;33m,\u001b[0m \u001b[0mY\u001b[0m\u001b[1;33m)\u001b[0m\u001b[1;33m\u001b[0m\u001b[1;33m\u001b[0m\u001b[0m\n\u001b[0;32m      4\u001b[0m \u001b[0mplt\u001b[0m\u001b[1;33m.\u001b[0m\u001b[0mplot\u001b[0m\u001b[1;33m(\u001b[0m\u001b[1;33m[\u001b[0m\u001b[0mmin\u001b[0m\u001b[1;33m(\u001b[0m\u001b[0mX\u001b[0m\u001b[1;33m)\u001b[0m\u001b[1;33m,\u001b[0m \u001b[0mmax\u001b[0m\u001b[1;33m(\u001b[0m\u001b[0mX\u001b[0m\u001b[1;33m)\u001b[0m\u001b[1;33m]\u001b[0m\u001b[1;33m,\u001b[0m \u001b[1;33m[\u001b[0m\u001b[0mmin\u001b[0m\u001b[1;33m(\u001b[0m\u001b[0mY_pred\u001b[0m\u001b[1;33m)\u001b[0m\u001b[1;33m,\u001b[0m \u001b[0mmax\u001b[0m\u001b[1;33m(\u001b[0m\u001b[0mY_pred\u001b[0m\u001b[1;33m)\u001b[0m\u001b[1;33m]\u001b[0m\u001b[1;33m,\u001b[0m \u001b[0mcolor\u001b[0m\u001b[1;33m=\u001b[0m\u001b[1;34m'yellow'\u001b[0m\u001b[1;33m)\u001b[0m\u001b[1;33m\u001b[0m\u001b[1;33m\u001b[0m\u001b[0m\n\u001b[0;32m      5\u001b[0m \u001b[0mplt\u001b[0m\u001b[1;33m.\u001b[0m\u001b[0mshow\u001b[0m\u001b[1;33m(\u001b[0m\u001b[1;33m)\u001b[0m\u001b[1;33m\u001b[0m\u001b[1;33m\u001b[0m\u001b[0m\n",
      "\u001b[1;31mNameError\u001b[0m: name 'X' is not defined"
     ]
    }
   ],
   "source": [
    "Y_pred = m*X + c\n",
    "\n",
    "plt.scatter(X, Y) \n",
    "plt.plot([min(X), max(X)], [min(Y_pred), max(Y_pred)], color='yellow')\n",
    "plt.show()"
   ]
  },
  {
   "cell_type": "code",
   "execution_count": null,
   "metadata": {},
   "outputs": [],
   "source": [
    "plt.scatter(test_data[:,0],test_data[:,1])\n",
    "plt.plot(test_data[:,0],temp1,color = 'red')"
   ]
  }
 ],
 "metadata": {
  "kernelspec": {
   "display_name": "Python 3",
   "language": "python",
   "name": "python3"
  },
  "language_info": {
   "codemirror_mode": {
    "name": "ipython",
    "version": 3
   },
   "file_extension": ".py",
   "mimetype": "text/x-python",
   "name": "python",
   "nbconvert_exporter": "python",
   "pygments_lexer": "ipython3",
   "version": "3.7.4"
  }
 },
 "nbformat": 4,
 "nbformat_minor": 2
}
