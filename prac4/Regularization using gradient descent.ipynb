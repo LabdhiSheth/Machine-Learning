{
 "cells": [
  {
   "cell_type": "code",
   "execution_count": 1,
   "metadata": {},
   "outputs": [],
   "source": [
    "#importing libraries\n",
    "import numpy as np\n",
    "import pandas as pd\n",
    "from sklearn.preprocessing import StandardScaler\n",
    "import matplotlib.pyplot as plt\n",
    "from sklearn import metrics\n",
    "from sklearn.datasets import load_boston\n",
    "from numpy.linalg import inv"
   ]
  },
  {
   "cell_type": "code",
   "execution_count": 2,
   "metadata": {},
   "outputs": [],
   "source": [
    "#loading the dataset into X matrix and y vector\n",
    "X,y = load_boston(return_X_y=True)"
   ]
  },
  {
   "cell_type": "code",
   "execution_count": 3,
   "metadata": {},
   "outputs": [],
   "source": [
    "#dividing into train and test dataset\n",
    "\n",
    "X_train = np.zeros((400,X.shape[1] + 1))\n",
    "X_train[:,0] = np.ones(400)\n",
    "X_train[:,1:] = X[0:400,:]\n",
    "\n",
    "y_train = y[0:400]\n",
    "y_train.shape\n",
    "\n",
    "X_test = X[400:, :]\n",
    "temp = np.zeros((X_test.shape[0], X_test.shape[1] + 1))\n",
    "temp[:,0] = np.ones(X_test.shape[0])\n",
    "temp[:,1:] = X_test\n",
    "X_test = temp\n",
    "\n",
    "y_test = y[400:]"
   ]
  },
  {
   "cell_type": "markdown",
   "metadata": {},
   "source": [
    "## Regularization using Gradient Descent"
   ]
  },
  {
   "cell_type": "code",
   "execution_count": 4,
   "metadata": {},
   "outputs": [],
   "source": [
    "#scaling the data using z-score normalization\n",
    "\n",
    "scaler = StandardScaler()\n",
    "\n",
    "#find mu and sigma\n",
    "scaler.fit(X_train[:,1:])\n",
    "\n",
    "X_train[:, 1: ] = scaler.transform(X_train[:, 1:])\n",
    "X_test[:, 1: ] = scaler.transform(X_test[:,1:])"
   ]
  },
  {
   "cell_type": "code",
   "execution_count": 13,
   "metadata": {},
   "outputs": [],
   "source": [
    "#defining values\n",
    "\n",
    "theta = np.random.uniform(0,1,size = X_train.shape[1])\n",
    "epochs = 500\n",
    "learning_rate = 0.01\n",
    "m = X_train.shape[0]\n",
    "n = X_train.shape[1]\n",
    "lamba = 10\n",
    "cost = []\n",
    "temp_theta = []"
   ]
  },
  {
   "cell_type": "code",
   "execution_count": 14,
   "metadata": {},
   "outputs": [
    {
     "name": "stdout",
     "output_type": "stream",
     "text": [
      "[24.17890083 -0.90820611  0.62514051 -0.13568465  0.61726574 -0.59729636\n",
      "  4.03692793 -0.03118759 -1.8375801   1.52587727 -0.68026089 -1.57084827\n",
      "  0.14584677 -3.29491267]\n"
     ]
    }
   ],
   "source": [
    "#performing regularization using gradient descent\n",
    "\n",
    "for i in range(epochs):\n",
    "    y_pred = np.dot(X_train,theta)\n",
    "    error = y_pred - y_train\n",
    "    theta = theta - (1/m)*learning_rate*np.dot(X_train.T,error)\n",
    "    temp_theta.append(theta[1])\n",
    "    cost.append(np.sum((np.dot(X_train,theta) - y_train)**2)/m + lamba*np.sum(np.dot(theta,theta)))\n",
    "    \n",
    "print(theta)"
   ]
  },
  {
   "cell_type": "code",
   "execution_count": 15,
   "metadata": {},
   "outputs": [
    {
     "name": "stdout",
     "output_type": "stream",
     "text": [
      "MAE 4.567397891887602\n",
      "MSE 30.587002401825117\n"
     ]
    }
   ],
   "source": [
    "#computing the error\n",
    "prediction = np.dot(X_test,theta)\n",
    "\n",
    "print(\"MAE\", metrics.mean_absolute_error(y_true=y_test,y_pred = prediction))\n",
    "print(\"MSE\", metrics.mean_squared_error(y_true=y_test,y_pred = prediction))"
   ]
  },
  {
   "cell_type": "code",
   "execution_count": 16,
   "metadata": {},
   "outputs": [
    {
     "data": {
      "text/plain": [
       "[<matplotlib.lines.Line2D at 0x1aeed017448>]"
      ]
     },
     "execution_count": 16,
     "metadata": {},
     "output_type": "execute_result"
    },
    {
     "data": {
      "image/png": "[encoded data removed]",
      "text/plain": [
       "<Figure size 432x288 with 1 Axes>"
      ]
     },
     "metadata": {
      "needs_background": "light"
     },
     "output_type": "display_data"
    }
   ],
   "source": [
    "#plotting the curve for new theta vs cost function\n",
    "\n",
    "plt.plot(temp_theta,cost)"
   ]
  },
  {
   "cell_type": "markdown",
   "metadata": {},
   "source": [
    "## Regularization using normal equation"
   ]
  },
  {
   "cell_type": "code",
   "execution_count": 17,
   "metadata": {},
   "outputs": [
    {
     "name": "stdout",
     "output_type": "stream",
     "text": [
      "[[0. 0. 0. 0. 0. 0. 0. 0. 0. 0. 0. 0. 0. 0.]\n",
      " [0. 1. 0. 0. 0. 0. 0. 0. 0. 0. 0. 0. 0. 0.]\n",
      " [0. 0. 1. 0. 0. 0. 0. 0. 0. 0. 0. 0. 0. 0.]\n",
      " [0. 0. 0. 1. 0. 0. 0. 0. 0. 0. 0. 0. 0. 0.]\n",
      " [0. 0. 0. 0. 1. 0. 0. 0. 0. 0. 0. 0. 0. 0.]\n",
      " [0. 0. 0. 0. 0. 1. 0. 0. 0. 0. 0. 0. 0. 0.]\n",
      " [0. 0. 0. 0. 0. 0. 1. 0. 0. 0. 0. 0. 0. 0.]\n",
      " [0. 0. 0. 0. 0. 0. 0. 1. 0. 0. 0. 0. 0. 0.]\n",
      " [0. 0. 0. 0. 0. 0. 0. 0. 1. 0. 0. 0. 0. 0.]\n",
      " [0. 0. 0. 0. 0. 0. 0. 0. 0. 1. 0. 0. 0. 0.]\n",
      " [0. 0. 0. 0. 0. 0. 0. 0. 0. 0. 1. 0. 0. 0.]\n",
      " [0. 0. 0. 0. 0. 0. 0. 0. 0. 0. 0. 1. 0. 0.]\n",
      " [0. 0. 0. 0. 0. 0. 0. 0. 0. 0. 0. 0. 1. 0.]\n",
      " [0. 0. 0. 0. 0. 0. 0. 0. 0. 0. 0. 0. 0. 1.]]\n"
     ]
    }
   ],
   "source": [
    "#defining the values\n",
    "\n",
    "lamba = 10\n",
    "mat = np.identity(X_train.shape[1])\n",
    "mat[0,0] = 0\n",
    "print(mat)"
   ]
  },
  {
   "cell_type": "code",
   "execution_count": 18,
   "metadata": {},
   "outputs": [
    {
     "name": "stdout",
     "output_type": "stream",
     "text": [
      "[0. 0. 0. 0. 0. 0. 0. 0. 0. 0. 0. 0. 0. 0.]\n"
     ]
    }
   ],
   "source": [
    "#defining theta\n",
    "\n",
    "theta = np.zeros(X_train.shape[1])\n",
    "print(theta)"
   ]
  },
  {
   "cell_type": "code",
   "execution_count": 19,
   "metadata": {},
   "outputs": [],
   "source": [
    "#computing reguralization using normal equation\n",
    "\n",
    "XTXi = inv(np.dot(X_train.T,X_train) + lamba*mat)\n",
    "XTy = np.dot(X_train.T,y_train)\n",
    "theta = np.dot(XTXi,XTy)"
   ]
  },
  {
   "cell_type": "code",
   "execution_count": 20,
   "metadata": {},
   "outputs": [
    {
     "name": "stdout",
     "output_type": "stream",
     "text": [
      "MAE 4.883844986488969\n",
      "MSE 34.304193780565924\n"
     ]
    }
   ],
   "source": [
    "prediction = np.dot(X_test,theta)\n",
    "\n",
    "print(\"MAE\", metrics.mean_absolute_error(y_true=y_test,y_pred = prediction))\n",
    "print(\"MSE\", metrics.mean_squared_error(y_true=y_test,y_pred = prediction))"
   ]
  }
 ],
 "metadata": {
  "kernelspec": {
   "display_name": "Python 3",
   "language": "python",
   "name": "python3"
  },
  "language_info": {
   "codemirror_mode": {
    "name": "ipython",
    "version": 3
   },
   "file_extension": ".py",
   "mimetype": "text/x-python",
   "name": "python",
   "nbconvert_exporter": "python",
   "pygments_lexer": "ipython3",
   "version": "3.7.4"
  }
 },
 "nbformat": 4,
 "nbformat_minor": 2
}
