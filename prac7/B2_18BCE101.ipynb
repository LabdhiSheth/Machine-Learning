{
 "cells": [
  {
   "cell_type": "markdown",
   "metadata": {},
   "source": [
    "# Grid Search"
   ]
  },
  {
   "cell_type": "code",
   "execution_count": 3,
   "metadata": {},
   "outputs": [
    {
     "name": "stdout",
     "output_type": "stream",
     "text": [
      "Best choice {'n_neighbors': 5, 'weights': 'uniform'}\n",
      "\n",
      "Prediction [0 0 0 0 0 0 0 0 0 0 0 0 0 0 0 0 0 0 0 0 0 0 0 0 0 1 1 1 1 1 1 1 1 1 1 1 1\n",
      " 1 1 1 1 2 1 1 1 1 1 1 1 1 2 2 2 2 2 2 2 2 2 2 2 2 2 2 2 2 2 2 2 2 2 2 2 2\n",
      " 2]\n",
      "\n",
      "Accuracy score :-\n",
      " 0.9866666666666667\n",
      "\n",
      "Classification report :- \n",
      "               precision    recall  f1-score   support\n",
      "\n",
      "           0       1.00      1.00      1.00        25\n",
      "           1       1.00      0.96      0.98        25\n",
      "           2       0.96      1.00      0.98        25\n",
      "\n",
      "    accuracy                           0.99        75\n",
      "   macro avg       0.99      0.99      0.99        75\n",
      "weighted avg       0.99      0.99      0.99        75\n",
      "\n",
      "\n",
      "Confusion Matrix :-\n",
      " [[25  0  0]\n",
      " [ 0 24  1]\n",
      " [ 0  0 25]]\n"
     ]
    }
   ],
   "source": [
    "#importing libraries\n",
    "import numpy as np\n",
    "from sklearn import neighbors,datasets,metrics\n",
    "from sklearn .model_selection import GridSearchCV\n",
    "\n",
    "#loading dataset\n",
    "X,y = datasets.load_iris(return_X_y= True)\n",
    "\n",
    "#splitting to test and train dataset\n",
    "X_train = X[range(0,150,2),:]\n",
    "y_train = y[range(0,150,2)]\n",
    "\n",
    "X_test = X[range(1,150,2),:]\n",
    "y_test = y[range(1,150,2)]\n",
    "\n",
    "#defining classifier\n",
    "classifier = neighbors.KNeighborsClassifier()\n",
    "\n",
    "#parameter values\n",
    "param_grid = {'n_neighbors' : [1,5,10,15], 'weights' : ['uniform','distance']}\n",
    "\n",
    "#computing grid search\n",
    "clf = GridSearchCV(classifier, param_grid, cv = 5)\n",
    "clf.fit(X_train,y_train)\n",
    "\n",
    "#printing the best parameters\n",
    "print(\"Best choice\",clf.best_params_)\n",
    "\n",
    "#predicting on test set\n",
    "prediction = clf.predict(X_test)\n",
    "print(\"\\nPrediction\",prediction)\n",
    "\n",
    "print(\"\\nAccuracy score :-\\n\",metrics.accuracy_score(y_test, prediction, normalize= True))\n",
    "\n",
    "print(\"\\nClassification report :- \\n\",metrics.classification_report(y_test, prediction))\n",
    "\n",
    "print(\"\\nConfusion Matrix :-\\n\",metrics.confusion_matrix(y_test,prediction))"
   ]
  },
  {
   "cell_type": "markdown",
   "metadata": {},
   "source": [
    "# Linear SVM"
   ]
  },
  {
   "cell_type": "code",
   "execution_count": 5,
   "metadata": {},
   "outputs": [
    {
     "name": "stdout",
     "output_type": "stream",
     "text": [
      "Prediction :- \n",
      " [0 0 0 0 0 0 0 0 0 0 0 0 0 0 0 0 0 0 0 0 0 0 0 0 0 1 1 1 1 1 1 1 1 1 1 2 1\n",
      " 1 1 1 1 1 2 1 1 1 1 1 1 1 2 2 2 2 2 2 2 2 2 2 2 2 2 2 2 2 2 2 2 2 2 2 2 2\n",
      " 2]\n",
      "\n",
      "Accuracy score :-\n",
      " 0.9733333333333334\n",
      "\n",
      "Classification report :- \n",
      "               precision    recall  f1-score   support\n",
      "\n",
      "           0       1.00      1.00      1.00        25\n",
      "           1       1.00      0.92      0.96        25\n",
      "           2       0.93      1.00      0.96        25\n",
      "\n",
      "    accuracy                           0.97        75\n",
      "   macro avg       0.98      0.97      0.97        75\n",
      "weighted avg       0.98      0.97      0.97        75\n",
      "\n",
      "\n",
      "Confusion Matrix :-\n",
      " [[25  0  0]\n",
      " [ 0 23  2]\n",
      " [ 0  0 25]]\n"
     ]
    },
    {
     "name": "stderr",
     "output_type": "stream",
     "text": [
      "C:\\Users\\labdh\\Anaconda3\\lib\\site-packages\\sklearn\\svm\\base.py:929: ConvergenceWarning: Liblinear failed to converge, increase the number of iterations.\n",
      "  \"the number of iterations.\", ConvergenceWarning)\n"
     ]
    }
   ],
   "source": [
    "#importing libraries\n",
    "import numpy as np\n",
    "from sklearn import svm,datasets,metrics\n",
    "import matplotlib.pyplot as plt\n",
    "\n",
    "#loading datasets\n",
    "X,y = datasets.load_iris(return_X_y= True)\n",
    "\n",
    "#splitting to test and train\n",
    "X_train = X[range(1,150,1),:]\n",
    "y_train = y[range(1,150,1)]\n",
    "\n",
    "X_test = X[range(0,150,2),:]\n",
    "y_test = y[range(0,150,2)]\n",
    "\n",
    "#computing SVM\n",
    "classifier = svm.LinearSVC().fit(X_train,y_train)\n",
    "\n",
    "#prediction and error\n",
    "prediction = classifier.predict(X_test)\n",
    "print(\"Prediction :- \\n\",prediction)\n",
    "\n",
    "print(\"\\nAccuracy score :-\\n\",metrics.accuracy_score(y_test, prediction, normalize= True))\n",
    "\n",
    "print(\"\\nClassification report :- \\n\",metrics.classification_report(y_test, prediction))\n",
    "\n",
    "print(\"\\nConfusion Matrix :-\\n\",metrics.confusion_matrix(y_test,prediction))"
   ]
  }
 ],
 "metadata": {
  "kernelspec": {
   "display_name": "Python 3",
   "language": "python",
   "name": "python3"
  },
  "language_info": {
   "codemirror_mode": {
    "name": "ipython",
    "version": 3
   },
   "file_extension": ".py",
   "mimetype": "text/x-python",
   "name": "python",
   "nbconvert_exporter": "python",
   "pygments_lexer": "ipython3",
   "version": "3.7.4"
  }
 },
 "nbformat": 4,
 "nbformat_minor": 2
}
