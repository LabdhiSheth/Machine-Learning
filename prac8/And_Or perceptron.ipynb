{
 "cells": [
  {
   "cell_type": "markdown",
   "metadata": {},
   "source": [
    "# Perceptron learning"
   ]
  },
  {
   "cell_type": "code",
   "execution_count": 8,
   "metadata": {},
   "outputs": [],
   "source": [
    "#loading libraries\n",
    "import pandas as pd\n",
    "import numpy as np\n",
    "import matplotlib.pyplot as plt"
   ]
  },
  {
   "cell_type": "markdown",
   "metadata": {},
   "source": [
    "## AND gate"
   ]
  },
  {
   "cell_type": "code",
   "execution_count": 9,
   "metadata": {},
   "outputs": [
    {
     "name": "stdout",
     "output_type": "stream",
     "text": [
      "Data values\n",
      " [[0 0 0]\n",
      " [0 1 0]\n",
      " [1 0 0]\n",
      " [1 1 1]]\n",
      "\n",
      "Shape of the data (4, 3)\n",
      "\n",
      "Initial weight [0.00339575 0.80885167]\n",
      "\n",
      "Initial bias 0.8333903999818812\n",
      "\n",
      "Final weight [0.20339575 0.20885167]\n",
      "\n",
      "Final bias -0.3666096000181187\n",
      "\n",
      "Prediction [False False False  True]\n"
     ]
    },
    {
     "data": {
      "text/plain": [
       "<matplotlib.collections.PathCollection at 0x2583cb979c8>"
      ]
     },
     "execution_count": 9,
     "metadata": {},
     "output_type": "execute_result"
    },
    {
     "data": {
      "image/png": "[encoded data removed]",
      "text/plain": [
       "<Figure size 432x288 with 1 Axes>"
      ]
     },
     "metadata": {
      "needs_background": "light"
     },
     "output_type": "display_data"
    }
   ],
   "source": [
    "#reading from the csv file\n",
    "and_data = pd.read_csv(filepath_or_buffer='and.csv', header= None)\n",
    "\n",
    "#printing the data\n",
    "and_data = and_data.values\n",
    "print(\"Data values\\n\",and_data)\n",
    "print(\"\\nShape of the data\",and_data.shape)\n",
    "\n",
    "#intializing the values\n",
    "datapoints = and_data.shape[0]\n",
    "dimension = and_data.shape[1] - 1\n",
    "\n",
    "W = 3 * np.random.random_sample((dimension)) - 1\n",
    "print(\"\\nInitial weight\",W)\n",
    "\n",
    "b = np.random.random()\n",
    "print(\"\\nInitial bias\",b)\n",
    "\n",
    "learning_rate = 0.1\n",
    "epochs = 15\n",
    "\n",
    "#running perceptron logic\n",
    "for i in range(epochs):\n",
    "    for j in range(datapoints):\n",
    "        net = np.dot(and_data[j,0:dimension], W) + b\n",
    "        \n",
    "        if(net >= 0):\n",
    "            a = 1\n",
    "        else:\n",
    "            a = 0\n",
    "            \n",
    "        error = and_data[j,dimension] - a\n",
    "        \n",
    "        W = W + learning_rate*error*(and_data[j,0:dimension].T)\n",
    "        b = b + learning_rate*error\n",
    "        \n",
    "\n",
    "#printing the result      \n",
    "print(\"\\nFinal weight\",W)\n",
    "print(\"\\nFinal bias\",b)\n",
    "\n",
    "prediction = (np.dot(and_data[:,0:dimension], W) + b) >= 0\n",
    "print(\"\\nPrediction\",prediction)\n",
    "\n",
    "#plotting the points\n",
    "plt.scatter(and_data[:,0], and_data[:,1])"
   ]
  },
  {
   "cell_type": "markdown",
   "metadata": {},
   "source": [
    "## OR gate"
   ]
  },
  {
   "cell_type": "code",
   "execution_count": 10,
   "metadata": {},
   "outputs": [
    {
     "name": "stdout",
     "output_type": "stream",
     "text": [
      "Data values\n",
      " [[0 0 0]\n",
      " [0 1 1]\n",
      " [1 0 1]\n",
      " [1 1 1]]\n",
      "\n",
      "Shape of the data (4, 3)\n",
      "\n",
      "Initial weight [0.8425934  0.74633556]\n",
      "\n",
      "Initial bias 0.31802459477510203\n",
      "\n",
      "Final weight [0.8425934  0.74633556]\n",
      "\n",
      "Final bias -0.08197540522489799\n",
      "\n",
      "Prediction [False  True  True  True]\n"
     ]
    },
    {
     "data": {
      "text/plain": [
       "<matplotlib.collections.PathCollection at 0x2583cbe6f08>"
      ]
     },
     "execution_count": 10,
     "metadata": {},
     "output_type": "execute_result"
    },
    {
     "data": {
      "image/png": "[encoded data removed]",
      "text/plain": [
       "<Figure size 432x288 with 1 Axes>"
      ]
     },
     "metadata": {
      "needs_background": "light"
     },
     "output_type": "display_data"
    }
   ],
   "source": [
    "or_data = pd.read_csv(filepath_or_buffer='or.csv', header= None)\n",
    "\n",
    "or_data = or_data.values\n",
    "print(\"Data values\\n\",or_data)\n",
    "print(\"\\nShape of the data\",or_data.shape)\n",
    "\n",
    "datapoints = or_data.shape[0]\n",
    "dimension = or_data.shape[1] - 1\n",
    "\n",
    "W = 2 * np.random.random_sample((dimension)) - 1\n",
    "print(\"\\nInitial weight\",W)\n",
    "      \n",
    "b = np.random.random()\n",
    "print(\"\\nInitial bias\",b)\n",
    "\n",
    "learning_rate = 0.1\n",
    "epochs = 20\n",
    "\n",
    "for i in range(epochs):\n",
    "    for j in range(datapoints):\n",
    "        net = np.dot(W, or_data[j,0:dimension]) + b\n",
    "        \n",
    "        if(net >= 0):\n",
    "            a = 1\n",
    "        else:\n",
    "            a = 0\n",
    "            \n",
    "        error = or_data[j,dimension] - a\n",
    "        \n",
    "        W = W + learning_rate*error*(or_data[j,0:dimension].T)\n",
    "        b = b + learning_rate*error\n",
    "            \n",
    "print(\"\\nFinal weight\",W)\n",
    "print(\"\\nFinal bias\",b)\n",
    "\n",
    "prediction = (np.dot(or_data[:,0:dimension], W) + b) >= 0\n",
    "print(\"\\nPrediction\",prediction)\n",
    "\n",
    "plt.scatter(or_data[:,0], or_data[:,1])"
   ]
  }
 ],
 "metadata": {
  "kernelspec": {
   "display_name": "Python 3",
   "language": "python",
   "name": "python3"
  },
  "language_info": {
   "codemirror_mode": {
    "name": "ipython",
    "version": 3
   },
   "file_extension": ".py",
   "mimetype": "text/x-python",
   "name": "python",
   "nbconvert_exporter": "python",
   "pygments_lexer": "ipython3",
   "version": "3.7.4"
  }
 },
 "nbformat": 4,
 "nbformat_minor": 2
}
